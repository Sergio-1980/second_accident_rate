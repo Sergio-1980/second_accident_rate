{
 "cells": [
  {
   "cell_type": "code",
   "execution_count": 2,
   "id": "89b33487",
   "metadata": {},
   "outputs": [],
   "source": [
    "import pandas as pd"
   ]
  },
  {
   "cell_type": "code",
   "execution_count": 3,
   "id": "dd9f09c5",
   "metadata": {},
   "outputs": [],
   "source": [
    "pd.set_option('display.max_columns', None)"
   ]
  },
  {
   "cell_type": "code",
   "execution_count": 4,
   "id": "2ce192e4",
   "metadata": {},
   "outputs": [],
   "source": [
    "fichero = \"2021_Accidentalidad.csv\"\n",
    "\n",
    "data = pd.read_csv(fichero, sep=\",\", skiprows=2, names=range(4))"
   ]
  },
  {
   "cell_type": "code",
   "execution_count": 5,
   "id": "89105c1e",
   "metadata": {},
   "outputs": [
    {
     "data": {
      "text/html": [
       "<div>\n",
       "<style scoped>\n",
       "    .dataframe tbody tr th:only-of-type {\n",
       "        vertical-align: middle;\n",
       "    }\n",
       "\n",
       "    .dataframe tbody tr th {\n",
       "        vertical-align: top;\n",
       "    }\n",
       "\n",
       "    .dataframe thead th {\n",
       "        text-align: right;\n",
       "    }\n",
       "</style>\n",
       "<table border=\"1\" class=\"dataframe\">\n",
       "  <thead>\n",
       "    <tr style=\"text-align: right;\">\n",
       "      <th></th>\n",
       "      <th>0</th>\n",
       "      <th>1</th>\n",
       "      <th>2</th>\n",
       "      <th>3</th>\n",
       "    </tr>\n",
       "  </thead>\n",
       "  <tbody>\n",
       "    <tr>\n",
       "      <th>0</th>\n",
       "      <td>2021S000235;01/01/2021;23:05;AVDA. RAFAELA YBA...</td>\n",
       "      <td>NaN</td>\n",
       "      <td>NaN</td>\n",
       "      <td>NaN</td>\n",
       "    </tr>\n",
       "    <tr>\n",
       "      <th>1</th>\n",
       "      <td>2021S000235;01/01/2021;23:05;AVDA. RAFAELA YBA...</td>\n",
       "      <td>NaN</td>\n",
       "      <td>NaN</td>\n",
       "      <td>NaN</td>\n",
       "    </tr>\n",
       "    <tr>\n",
       "      <th>2</th>\n",
       "      <td>2021S000021;01/01/2021;22:57;CALL. BEMBIBRE / ...</td>\n",
       "      <td>NaN</td>\n",
       "      <td>NaN</td>\n",
       "      <td>NaN</td>\n",
       "    </tr>\n",
       "    <tr>\n",
       "      <th>3</th>\n",
       "      <td>2021S000021;01/01/2021;22:57;CALL. BEMBIBRE / ...</td>\n",
       "      <td>NaN</td>\n",
       "      <td>NaN</td>\n",
       "      <td>NaN</td>\n",
       "    </tr>\n",
       "    <tr>\n",
       "      <th>4</th>\n",
       "      <td>2021S000021;01/01/2021;22:57;CALL. BEMBIBRE / ...</td>\n",
       "      <td>NaN</td>\n",
       "      <td>NaN</td>\n",
       "      <td>NaN</td>\n",
       "    </tr>\n",
       "    <tr>\n",
       "      <th>...</th>\n",
       "      <td>...</td>\n",
       "      <td>...</td>\n",
       "      <td>...</td>\n",
       "      <td>...</td>\n",
       "    </tr>\n",
       "    <tr>\n",
       "      <th>18982</th>\n",
       "      <td>2021S011943;30/06/2021;4:25;CALL. GRAN VIA;68;...</td>\n",
       "      <td>NaN</td>\n",
       "      <td>NaN</td>\n",
       "      <td>NaN</td>\n",
       "    </tr>\n",
       "    <tr>\n",
       "      <th>18983</th>\n",
       "      <td>2021S011802;30/06/2021;1:45;AVDA. ABRANTES / C...</td>\n",
       "      <td>NaN</td>\n",
       "      <td>NaN</td>\n",
       "      <td>NaN</td>\n",
       "    </tr>\n",
       "    <tr>\n",
       "      <th>18984</th>\n",
       "      <td>2021S011802;30/06/2021;1:45;AVDA. ABRANTES / C...</td>\n",
       "      <td>NaN</td>\n",
       "      <td>NaN</td>\n",
       "      <td>NaN</td>\n",
       "    </tr>\n",
       "    <tr>\n",
       "      <th>18985</th>\n",
       "      <td>2021S011802;30/06/2021;1:45;AVDA. ABRANTES / C...</td>\n",
       "      <td>NaN</td>\n",
       "      <td>NaN</td>\n",
       "      <td>NaN</td>\n",
       "    </tr>\n",
       "    <tr>\n",
       "      <th>18986</th>\n",
       "      <td>2021S011800;30/06/2021;0:35;CALL. OCA;23;CARAB...</td>\n",
       "      <td>NaN</td>\n",
       "      <td>NaN</td>\n",
       "      <td>NaN</td>\n",
       "    </tr>\n",
       "  </tbody>\n",
       "</table>\n",
       "<p>18987 rows × 4 columns</p>\n",
       "</div>"
      ],
      "text/plain": [
       "                                                       0   1   2   3\n",
       "0      2021S000235;01/01/2021;23:05;AVDA. RAFAELA YBA... NaN NaN NaN\n",
       "1      2021S000235;01/01/2021;23:05;AVDA. RAFAELA YBA... NaN NaN NaN\n",
       "2      2021S000021;01/01/2021;22:57;CALL. BEMBIBRE / ... NaN NaN NaN\n",
       "3      2021S000021;01/01/2021;22:57;CALL. BEMBIBRE / ... NaN NaN NaN\n",
       "4      2021S000021;01/01/2021;22:57;CALL. BEMBIBRE / ... NaN NaN NaN\n",
       "...                                                  ...  ..  ..  ..\n",
       "18982  2021S011943;30/06/2021;4:25;CALL. GRAN VIA;68;... NaN NaN NaN\n",
       "18983  2021S011802;30/06/2021;1:45;AVDA. ABRANTES / C... NaN NaN NaN\n",
       "18984  2021S011802;30/06/2021;1:45;AVDA. ABRANTES / C... NaN NaN NaN\n",
       "18985  2021S011802;30/06/2021;1:45;AVDA. ABRANTES / C... NaN NaN NaN\n",
       "18986  2021S011800;30/06/2021;0:35;CALL. OCA;23;CARAB... NaN NaN NaN\n",
       "\n",
       "[18987 rows x 4 columns]"
      ]
     },
     "execution_count": 5,
     "metadata": {},
     "output_type": "execute_result"
    }
   ],
   "source": [
    "data"
   ]
  },
  {
   "cell_type": "code",
   "execution_count": 8,
   "id": "5214625e",
   "metadata": {},
   "outputs": [
    {
     "data": {
      "text/plain": [
       "array(['2021S000235;01/01/2021;23:05;AVDA. RAFAELA YBARRA / CALL. MARCELO USERA;-;USERA;Alcance;Se desconoce;Turismo;Conductor;DE 45 A 49 AÑOS;Hombre;;;;;',\n",
       "       '2021S000235;01/01/2021;23:05;AVDA. RAFAELA YBARRA / CALL. MARCELO USERA;-;USERA;Alcance;Se desconoce;Turismo;Conductor;DE 40 A 44 AÑOS;Hombre;;;;;',\n",
       "       '2021S000021;01/01/2021;22:57;CALL. BEMBIBRE / CALL. BACARES;-;HORTALEZA;Choque contra obstáculo fijo;;Turismo;Conductor;DE 21 A 24 AÑOS;Hombre;;;;;',\n",
       "       ...,\n",
       "       '2021S011802;30/06/2021;1:45;AVDA. ABRANTES / CALL. ALFONSO MARTINEZ CONDE;-;CARABANCHEL;Colisión fronto-lateral;Despejado;Turismo;Conductor;DESCONOCIDA;;;;;;',\n",
       "       '2021S011802;30/06/2021;1:45;AVDA. ABRANTES / CALL. ALFONSO MARTINEZ CONDE;-;CARABANCHEL;Colisión fronto-lateral;Despejado;Turismo;Conductor;DESCONOCIDA;;;;;;',\n",
       "       '2021S011800;30/06/2021;0:35;CALL. OCA;23;CARABANCHEL;Caída;Despejado;Otros vehículos con motor;Conductor;DE 21 A 24 AÑOS;Hombre;03;;;;'],\n",
       "      dtype=object)"
      ]
     },
     "execution_count": 8,
     "metadata": {},
     "output_type": "execute_result"
    }
   ],
   "source": [
    "data[0].values"
   ]
  },
  {
   "cell_type": "code",
   "execution_count": null,
   "id": "fa248889",
   "metadata": {},
   "outputs": [],
   "source": []
  }
 ],
 "metadata": {
  "kernelspec": {
   "display_name": "ironhack",
   "language": "python",
   "name": "ironhack"
  },
  "language_info": {
   "codemirror_mode": {
    "name": "ipython",
    "version": 3
   },
   "file_extension": ".py",
   "mimetype": "text/x-python",
   "name": "python",
   "nbconvert_exporter": "python",
   "pygments_lexer": "ipython3",
   "version": "3.8.11"
  }
 },
 "nbformat": 4,
 "nbformat_minor": 5
}
